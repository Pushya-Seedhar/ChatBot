{
 "cells": [
  {
   "cell_type": "code",
   "execution_count": 1,
   "id": "4f0fd2f7-426c-4ee2-8cd9-9b88baaeb536",
   "metadata": {},
   "outputs": [],
   "source": [
    "import nltk\n",
    "from nltk.chat.util import Chat, reflections\n"
   ]
  },
  {
   "cell_type": "code",
   "execution_count": 2,
   "id": "ed36d32a-fc25-4091-98dd-6f39678b7423",
   "metadata": {},
   "outputs": [
    {
     "name": "stderr",
     "output_type": "stream",
     "text": [
      "[nltk_data] Downloading package punkt to\n",
      "[nltk_data]     C:\\Users\\PUSHYA\\AppData\\Roaming\\nltk_data...\n",
      "[nltk_data]   Unzipping tokenizers\\punkt.zip.\n"
     ]
    },
    {
     "data": {
      "text/plain": [
       "True"
      ]
     },
     "execution_count": 2,
     "metadata": {},
     "output_type": "execute_result"
    }
   ],
   "source": [
    "nltk.download('punkt')"
   ]
  },
  {
   "cell_type": "code",
   "execution_count": 3,
   "id": "1ce5d3f7-98e1-4ead-9a12-88398bd5bb9f",
   "metadata": {},
   "outputs": [],
   "source": [
    "pairs = [\n",
    "    [\"hi|hello|hey\", [\"Hello!\", \"Hey there!\", \"Hi, how can I help you?\"]],\n",
    "    [\"how are you?\", [\"I'm just a bot, but I'm doing great!\", \"I'm fine, thank you.\"]],\n",
    "    [\"what is your name?\", [\"I am ChatGPT, your friendly chatbot.\"]],\n",
    "    [\"tell me a joke\", [\"Why did the programmer quit his job? Because he didn't get arrays.\"]],\n",
    "    [\"bye|goodbye\", [\"Goodbye! Have a great day.\", \"See you later!\"]],\n",
    "    [\"(.*)\", [\"I'm sorry, I didn't understand that. Can you please rephrase?\"]]\n",
    "]\n"
   ]
  },
  {
   "cell_type": "code",
   "execution_count": 4,
   "id": "04b71cdd-5990-4e03-9e85-926cdf27e92b",
   "metadata": {},
   "outputs": [],
   "source": [
    "def chatbot():\n",
    "    print(\"Chatbot: Hi! I'm your simple chatbot. Type 'bye' to exit.\")\n",
    "    chat = Chat(pairs, reflections)\n",
    "    chat.converse()\n"
   ]
  },
  {
   "cell_type": "code",
   "execution_count": null,
   "id": "f488a8af-268e-4992-9457-fc1673fbd256",
   "metadata": {},
   "outputs": [
    {
     "name": "stdout",
     "output_type": "stream",
     "text": [
      "Chatbot: Hi! I'm your simple chatbot. Type 'bye' to exit.\n"
     ]
    },
    {
     "name": "stdin",
     "output_type": "stream",
     "text": [
      "> hello\n"
     ]
    },
    {
     "name": "stdout",
     "output_type": "stream",
     "text": [
      "Hi, how can I help you?\n"
     ]
    },
    {
     "name": "stdin",
     "output_type": "stream",
     "text": [
      "> bye\n"
     ]
    },
    {
     "name": "stdout",
     "output_type": "stream",
     "text": [
      "Goodbye! Have a great day.\n"
     ]
    },
    {
     "name": "stdin",
     "output_type": "stream",
     "text": [
      "> exit\n"
     ]
    },
    {
     "name": "stdout",
     "output_type": "stream",
     "text": [
      "I'm sorry, I didn't understand that. Can you please rephrase?\n"
     ]
    }
   ],
   "source": [
    "chatbot()"
   ]
  },
  {
   "cell_type": "code",
   "execution_count": null,
   "id": "7810dc42-75f6-4f5a-ba63-04c7940a2d0f",
   "metadata": {},
   "outputs": [],
   "source": []
  }
 ],
 "metadata": {
  "kernelspec": {
   "display_name": "Python (Deepfake)",
   "language": "python",
   "name": "deepfake"
  },
  "language_info": {
   "codemirror_mode": {
    "name": "ipython",
    "version": 3
   },
   "file_extension": ".py",
   "mimetype": "text/x-python",
   "name": "python",
   "nbconvert_exporter": "python",
   "pygments_lexer": "ipython3",
   "version": "3.11.11"
  }
 },
 "nbformat": 4,
 "nbformat_minor": 5
}
